{
 "cells": [
  {
   "cell_type": "code",
   "execution_count": 2,
   "metadata": {},
   "outputs": [],
   "source": [
    "import pandas as pd\n",
    "import seaborn as sns\n",
    "import matplotlib.pyplot as plt\n",
    "import numpy as np\n",
    "from tqdm import tqdm\n",
    "from matplotlib import rc\n",
    "from geopy.geocoders import Nominatim"
   ]
  },
  {
   "cell_type": "code",
   "execution_count": 3,
   "metadata": {},
   "outputs": [],
   "source": [
    "ori_df = pd.read_csv(\"data/JEJU_MCT_DATA.csv\", encoding=\"cp949\")\n",
    "df = ori_df.copy()\n",
    "df = df[~df['ADDR'].str.strip().eq('')]\n",
    "address_df = df[['ADDR']].copy()"
   ]
  },
  {
   "cell_type": "code",
   "execution_count": 4,
   "metadata": {},
   "outputs": [
    {
     "data": {
      "text/html": [
       "<div>\n",
       "<style scoped>\n",
       "    .dataframe tbody tr th:only-of-type {\n",
       "        vertical-align: middle;\n",
       "    }\n",
       "\n",
       "    .dataframe tbody tr th {\n",
       "        vertical-align: top;\n",
       "    }\n",
       "\n",
       "    .dataframe thead th {\n",
       "        text-align: right;\n",
       "    }\n",
       "</style>\n",
       "<table border=\"1\" class=\"dataframe\">\n",
       "  <thead>\n",
       "    <tr style=\"text-align: right;\">\n",
       "      <th></th>\n",
       "      <th>ADDR</th>\n",
       "    </tr>\n",
       "  </thead>\n",
       "  <tbody>\n",
       "    <tr>\n",
       "      <th>0</th>\n",
       "      <td>제주 제주시 용담이동 2682-9번지 통큰돼지</td>\n",
       "    </tr>\n",
       "    <tr>\n",
       "      <th>1</th>\n",
       "      <td>제주 제주시 애월읍 애월리 410-6번지</td>\n",
       "    </tr>\n",
       "    <tr>\n",
       "      <th>2</th>\n",
       "      <td>제주 서귀포시 색달동 2315-1번지 한그릇</td>\n",
       "    </tr>\n",
       "    <tr>\n",
       "      <th>3</th>\n",
       "      <td>제주 제주시 한림읍 협재리 1459-2번지</td>\n",
       "    </tr>\n",
       "    <tr>\n",
       "      <th>4</th>\n",
       "      <td>제주 제주시 노형동 3784-12번지 1층</td>\n",
       "    </tr>\n",
       "    <tr>\n",
       "      <th>5</th>\n",
       "      <td>제주 제주시 일도일동 1146번지</td>\n",
       "    </tr>\n",
       "    <tr>\n",
       "      <th>6</th>\n",
       "      <td>제주 제주시 아라일동 6104번지 1층</td>\n",
       "    </tr>\n",
       "    <tr>\n",
       "      <th>7</th>\n",
       "      <td>제주 제주시 연동 355-8번지 1층</td>\n",
       "    </tr>\n",
       "    <tr>\n",
       "      <th>8</th>\n",
       "      <td>제주 서귀포시 토평동 1245-7번지</td>\n",
       "    </tr>\n",
       "    <tr>\n",
       "      <th>9</th>\n",
       "      <td>제주 제주시 아라일동 1813-2번지 1층</td>\n",
       "    </tr>\n",
       "  </tbody>\n",
       "</table>\n",
       "</div>"
      ],
      "text/plain": [
       "                        ADDR\n",
       "0  제주 제주시 용담이동 2682-9번지 통큰돼지\n",
       "1     제주 제주시 애월읍 애월리 410-6번지\n",
       "2   제주 서귀포시 색달동 2315-1번지 한그릇\n",
       "3    제주 제주시 한림읍 협재리 1459-2번지\n",
       "4    제주 제주시 노형동 3784-12번지 1층\n",
       "5         제주 제주시 일도일동 1146번지\n",
       "6      제주 제주시 아라일동 6104번지 1층\n",
       "7       제주 제주시 연동 355-8번지 1층\n",
       "8       제주 서귀포시 토평동 1245-7번지\n",
       "9    제주 제주시 아라일동 1813-2번지 1층"
      ]
     },
     "execution_count": 4,
     "metadata": {},
     "output_type": "execute_result"
    }
   ],
   "source": [
    "address_df.head(10)"
   ]
  },
  {
   "cell_type": "code",
   "execution_count": 6,
   "metadata": {},
   "outputs": [],
   "source": [
    "geo_local = Nominatim(user_agent='South Korea')"
   ]
  },
  {
   "cell_type": "code",
   "execution_count": 7,
   "metadata": {},
   "outputs": [
    {
     "name": "stderr",
     "output_type": "stream",
     "text": [
      "  0%|          | 69/67915 [01:11<18:28:44,  1.02it/s]"
     ]
    },
    {
     "ename": "",
     "evalue": "",
     "output_type": "error",
     "traceback": [
      "\u001b[1;31m코드를 실행할 수 없습니다. 세션이 삭제되었습니다. 커널을 다시 시작해 보세요."
     ]
    },
    {
     "ename": "",
     "evalue": "",
     "output_type": "error",
     "traceback": [
      "\u001b[1;31m코드를 실행할 수 없습니다. 세션이 삭제되었습니다. 커널을 다시 시작해 보세요. \n",
      "\u001b[1;31m자세한 내용은 Jupyter <a href='command:jupyter.viewOutput'>로그</a>를 참조하세요."
     ]
    }
   ],
   "source": [
    "# 위도, 경도 반환하는 함수\n",
    "def geocoding(address):\n",
    "    try:\n",
    "        location = geo_local.geocode(address)\n",
    "        geo = [location.latitude, location.longitude]\n",
    "        return geo\n",
    "\n",
    "    except:\n",
    "        return [0,0]\n",
    "\n",
    "# 실행\n",
    "for idx,addr in enumerate(tqdm(address_df.ADDR)):\n",
    "    address_df.loc[idx,'Latitude'] = geocoding(addr)[0]\n",
    "    address_df.loc[idx,'Longitude'] = geocoding(addr)[1]"
   ]
  },
  {
   "cell_type": "code",
   "execution_count": null,
   "metadata": {},
   "outputs": [],
   "source": [
    "address_df.to_csv(\"data/jeju_address.csv\", encoding=\"cp949\")"
   ]
  }
 ],
 "metadata": {
  "kernelspec": {
   "display_name": "base",
   "language": "python",
   "name": "python3"
  },
  "language_info": {
   "codemirror_mode": {
    "name": "ipython",
    "version": 3
   },
   "file_extension": ".py",
   "mimetype": "text/x-python",
   "name": "python",
   "nbconvert_exporter": "python",
   "pygments_lexer": "ipython3",
   "version": "3.11.5"
  }
 },
 "nbformat": 4,
 "nbformat_minor": 2
}
