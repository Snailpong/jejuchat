{
 "cells": [
  {
   "cell_type": "code",
   "execution_count": 3,
   "metadata": {},
   "outputs": [],
   "source": [
    "import json\n",
    "\n",
    "import pandas as pd\n",
    "import requests\n",
    "\n",
    "from api_key import jeju_cits_api_key"
   ]
  },
  {
   "cell_type": "code",
   "execution_count": 2,
   "metadata": {},
   "outputs": [],
   "source": [
    "park_url = f\"http://api.jejuits.go.kr/api/infoParkingInfoList?code={jeju_cits_api_key}\"\n",
    "response = requests.get(park_url)"
   ]
  },
  {
   "cell_type": "code",
   "execution_count": 4,
   "metadata": {},
   "outputs": [],
   "source": [
    "park_data = response.json()"
   ]
  },
  {
   "cell_type": "code",
   "execution_count": 13,
   "metadata": {},
   "outputs": [
    {
     "data": {
      "text/plain": [
       "{'result': 'success',\n",
       " 'info_cnt': 10,\n",
       " 'info': [{'id': '11111111',\n",
       "   'name': '서귀포매일올레시장',\n",
       "   'addr': '서귀포시 중앙로 62번길 18',\n",
       "   'x_crdn': 126.56326295,\n",
       "   'y_crdn': 33.25031562,\n",
       "   'park_day': '월화수목금토일',\n",
       "   'wkdy_strt': '090000',\n",
       "   'wkdy_end': '180000',\n",
       "   'lhdy_strt': '090000',\n",
       "   'lhdy_end': '180000',\n",
       "   'basic_time': 30,\n",
       "   'basic_fare': 1000,\n",
       "   'add_time': 15,\n",
       "   'add_fare': 500,\n",
       "   'whol_npls': 216},\n",
       "  {'id': '16488201',\n",
       "   'name': '법원북측공영주차장',\n",
       "   'addr': '제주시 이도이동 1066',\n",
       "   'x_crdn': 126.53534209,\n",
       "   'y_crdn': 33.49472463,\n",
       "   'park_day': '월화수목금토일',\n",
       "   'wkdy_strt': '090000',\n",
       "   'wkdy_end': '180000',\n",
       "   'lhdy_strt': '090000',\n",
       "   'lhdy_end': '180000',\n",
       "   'basic_time': 30,\n",
       "   'basic_fare': 1000,\n",
       "   'add_time': 15,\n",
       "   'add_fare': 500,\n",
       "   'whol_npls': 91},\n",
       "  {'id': '20019319',\n",
       "   'name': '산짓물공영주차장',\n",
       "   'addr': '제주시 건입동 1330',\n",
       "   'x_crdn': 126.52872778,\n",
       "   'y_crdn': 33.51590058,\n",
       "   'park_day': '월화수목금토일',\n",
       "   'wkdy_strt': '090000',\n",
       "   'wkdy_end': '180000',\n",
       "   'lhdy_strt': '090000',\n",
       "   'lhdy_end': '180000',\n",
       "   'basic_time': 30,\n",
       "   'basic_fare': 1000,\n",
       "   'add_time': 15,\n",
       "   'add_fare': 500,\n",
       "   'whol_npls': 71},\n",
       "  {'id': '17680713',\n",
       "   'name': '이도2동공영주차장',\n",
       "   'addr': '제주시 오복3길 9 (이도이동 1052-2)',\n",
       "   'x_crdn': 126.53494394,\n",
       "   'y_crdn': 33.49673819,\n",
       "   'park_day': '월화수목금토일',\n",
       "   'wkdy_strt': '090000',\n",
       "   'wkdy_end': '180000',\n",
       "   'lhdy_strt': '090000',\n",
       "   'lhdy_end': '180000',\n",
       "   'basic_time': 30,\n",
       "   'basic_fare': 1000,\n",
       "   'add_time': 15,\n",
       "   'add_fare': 500,\n",
       "   'whol_npls': 150},\n",
       "  {'id': '17759313',\n",
       "   'name': '북수구공영주차장',\n",
       "   'addr': '제주시 일도일동 1230-3',\n",
       "   'x_crdn': 126.52794054,\n",
       "   'y_crdn': 33.5146917,\n",
       "   'park_day': '월화수목금토일',\n",
       "   'wkdy_strt': '080000',\n",
       "   'wkdy_end': '220000',\n",
       "   'lhdy_strt': '080000',\n",
       "   'lhdy_end': '220000',\n",
       "   'basic_time': 30,\n",
       "   'basic_fare': 1000,\n",
       "   'add_time': 15,\n",
       "   'add_fare': 500,\n",
       "   'whol_npls': 51},\n",
       "  {'id': '11251813',\n",
       "   'name': '신제주공영주차장',\n",
       "   'addr': '제주시 연동 신대로12길',\n",
       "   'x_crdn': 126.49106817,\n",
       "   'y_crdn': 33.48893829,\n",
       "   'park_day': '월화수목금',\n",
       "   'wkdy_strt': '120000',\n",
       "   'wkdy_end': '220000',\n",
       "   'lhdy_strt': '120000',\n",
       "   'lhdy_end': '220000',\n",
       "   'basic_time': 30,\n",
       "   'basic_fare': 1000,\n",
       "   'add_time': 15,\n",
       "   'add_fare': 500,\n",
       "   'whol_npls': 500},\n",
       "  {'id': '17039715',\n",
       "   'name': '동문공설시장공영주차장',\n",
       "   'addr': '제주시 동문로4길 9 (일도일동 1104-2)',\n",
       "   'x_crdn': 126.52819953,\n",
       "   'y_crdn': 33.51208935,\n",
       "   'park_day': '월화수목금토일',\n",
       "   'wkdy_strt': '090000',\n",
       "   'wkdy_end': '180000',\n",
       "   'lhdy_strt': '090000',\n",
       "   'lhdy_end': '180000',\n",
       "   'basic_time': 30,\n",
       "   'basic_fare': 1000,\n",
       "   'add_time': 15,\n",
       "   'add_fare': 500,\n",
       "   'whol_npls': 264},\n",
       "  {'id': '17385794',\n",
       "   'name': '서귀중앙공영주차빌딩',\n",
       "   'addr': '서귀포시 중앙로 54번길 17 (서귀동 291-63)',\n",
       "   'x_crdn': 126.56221093,\n",
       "   'y_crdn': 33.2498566,\n",
       "   'park_day': '월화수목금토일',\n",
       "   'wkdy_strt': '090000',\n",
       "   'wkdy_end': '180000',\n",
       "   'lhdy_strt': '090000',\n",
       "   'lhdy_end': '180000',\n",
       "   'basic_time': 30,\n",
       "   'basic_fare': 1000,\n",
       "   'add_time': 15,\n",
       "   'add_fare': 500,\n",
       "   'whol_npls': 306},\n",
       "  {'id': '17435963',\n",
       "   'name': '칠성골공영주차장',\n",
       "   'addr': '제주시 임항로 8 (삼도이동 1192-8)',\n",
       "   'x_crdn': 126.525116,\n",
       "   'y_crdn': 33.516579,\n",
       "   'park_day': '월화수목금토일',\n",
       "   'wkdy_strt': '120000',\n",
       "   'wkdy_end': '210000',\n",
       "   'lhdy_strt': '120000',\n",
       "   'lhdy_end': '210000',\n",
       "   'basic_time': 30,\n",
       "   'basic_fare': 1000,\n",
       "   'add_time': 15,\n",
       "   'add_fare': 500,\n",
       "   'whol_npls': 80},\n",
       "  {'id': '16489518',\n",
       "   'name': '인제공영주차장',\n",
       "   'addr': '제주시 고마로 19길 5 (일도이동 409-11)',\n",
       "   'x_crdn': 126.54195004,\n",
       "   'y_crdn': 33.50479298,\n",
       "   'park_day': '월화수목금토일',\n",
       "   'wkdy_strt': '120000',\n",
       "   'wkdy_end': '210000',\n",
       "   'lhdy_strt': '000000',\n",
       "   'lhdy_end': '000000',\n",
       "   'basic_time': 30,\n",
       "   'basic_fare': 1000,\n",
       "   'add_time': 15,\n",
       "   'add_fare': 500,\n",
       "   'whol_npls': 125}]}"
      ]
     },
     "execution_count": 13,
     "metadata": {},
     "output_type": "execute_result"
    }
   ],
   "source": [
    "park_data"
   ]
  },
  {
   "cell_type": "code",
   "execution_count": 14,
   "metadata": {},
   "outputs": [
    {
     "name": "stdout",
     "output_type": "stream",
     "text": [
      "10\n"
     ]
    }
   ],
   "source": [
    "print(len(park_data['info']))"
   ]
  },
  {
   "cell_type": "code",
   "execution_count": 10,
   "metadata": {},
   "outputs": [
    {
     "name": "stdout",
     "output_type": "stream",
     "text": [
      "        PARK_NM   Latitude   Longitude\n",
      "0  서귀포매일올레시장주차장  33.250316  126.563263\n",
      "1     법원북측공영주차장  33.494725  126.535342\n",
      "2      산짓물공영주차장  33.515901  126.528728\n",
      "3     이도2동공영주차장  33.496738  126.534944\n",
      "4      북수구공영주차장  33.514692  126.527941\n",
      "5      신제주공영주차장  33.488938  126.491068\n",
      "6   동문공설시장공영주차장  33.512089  126.528200\n",
      "7    서귀중앙공영주차빌딩  33.249857  126.562211\n",
      "8      칠성골공영주차장  33.516579  126.525116\n",
      "9       인제공영주차장  33.504793  126.541950\n"
     ]
    }
   ],
   "source": [
    "# Extract relevant information from the data dictionary\n",
    "info_list = park_data['info']\n",
    "filtered_data = [{'PARK_NM': item['name'], 'Latitude': item['y_crdn'], 'Longitude': item['x_crdn']} for item in info_list]\n",
    "# Add '주차장' to PARK_NM if it does not end with '주차장'\n",
    "for item in filtered_data:\n",
    "    if '주차' not in item['PARK_NM']:\n",
    "        item['PARK_NM'] += '주차장'\n",
    "\n",
    "# Convert the filtered data to a pandas DataFrame\n",
    "park_df = pd.DataFrame(filtered_data)\n",
    "print(park_df.head(10))"
   ]
  },
  {
   "cell_type": "code",
   "execution_count": 11,
   "metadata": {},
   "outputs": [
    {
     "name": "stdout",
     "output_type": "stream",
     "text": [
      "10\n"
     ]
    }
   ],
   "source": [
    "print(len(park_df))\n",
    "park_df.to_csv(\"data/JEJU_PARKING.csv\", encoding=\"cp949\", index=False)"
   ]
  },
  {
   "cell_type": "code",
   "execution_count": 17,
   "metadata": {},
   "outputs": [],
   "source": [
    "tour_url = f\"http://api.jejuits.go.kr/api/infoTourList?code={jeju_cits_api_key}\"\n",
    "response = requests.get(tour_url)\n",
    "tour_data = response.json()"
   ]
  },
  {
   "cell_type": "code",
   "execution_count": 18,
   "metadata": {},
   "outputs": [
    {
     "name": "stdout",
     "output_type": "stream",
     "text": [
      "1136\n"
     ]
    }
   ],
   "source": [
    "print(len(tour_data['info']))"
   ]
  },
  {
   "cell_type": "code",
   "execution_count": 21,
   "metadata": {},
   "outputs": [
    {
     "name": "stdout",
     "output_type": "stream",
     "text": [
      "[{'contents_id': 'CNTS_000000000022691', 'contents_label': '관광지', 'title': '오라동 청보리-메밀꽃밭', 'address': '제주특별자치도 제주시 오라2동 산 76', 'road_address': '제주특별자치도 제주시 오라2동 산 76', 'tag': '경관/포토,친구,커플,맑음,봄,가을', 'introduction': '한라산 아래 드넓은 청보리-메밀꽃의 향연', 'latitude': 33.426865, 'longitude': 126.505775, 'post_code': '', 'phone_no': '--', 'img_path': 'https://api.cdn.visitjeju.net/photomng/imgpath/201809/28/fbc56229-ade0-47d9-a6be-c148ee791dc6.JPG', 'thumbnail_path': 'https://api.cdn.visitjeju.net/photomng/thumbnailpath/201809/28/42c86682-e38b-4ceb-b429-89591ba870b1.JPG'}, {'contents_id': 'CONT_000000000500589', 'contents_label': '관광지', 'title': '조은승마장', 'address': '제주특별자치도 서귀포시 안덕면 동광리 897-2', 'road_address': '제주특별자치도 서귀포시 안덕면 동광로 265-14', 'tag': '승마,액티비티,커플,가을', 'introduction': '아이들과 함께하는 승마체험', 'latitude': 33.318214, 'longitude': 126.344894, 'post_code': '63523', 'phone_no': '064-792-0550', 'img_path': 'https://api.cdn.visitjeju.net/photomng/imgpath/201804/30/f1dd27f5-56b2-4db7-a391-e8fa2a81a120.jpg', 'thumbnail_path': 'https://api.cdn.visitjeju.net/photomng/thumbnailpath/201804/30/9a6b1c8a-4a9f-47e9-bba8-dd70002d9839.jpg'}, {'contents_id': 'CNTS_200000000009531', 'contents_label': '관광지', 'title': '번개레이싱', 'address': '제주특별자치도 서귀포시 안덕면 서광리 산 39 항공우주박물관 3층 번개레이싱', 'road_address': '제주특별자치도 서귀포시 안덕면 녹차분재로 218 항공우주박물관 3층 번개레이싱', 'tag': '부모,아이,친구,커플,혼자,액티비티,증강현실', 'introduction': '국내최초 ! 가상·증강현실 콘텐츠. 도심형 레이싱 테마파크 !', 'latitude': 33.302971, 'longitude': 126.299068, 'post_code': '', 'phone_no': '064-792-0913', 'img_path': 'https://api.cdn.visitjeju.net/photomng/imgpath/201912/02/1e81ef83-fa91-4df1-b53c-c1f4146ad4e3.jpg', 'thumbnail_path': 'https://api.cdn.visitjeju.net/photomng/thumbnailpath/201912/02/51589c7b-bb99-4e33-b47d-4e2b3aef73a3.jpg'}, {'contents_id': 'CONT_000000000500057', 'contents_label': '관광지', 'title': '관덕정', 'address': '제주특별자치도 제주시 삼도2동 983-1', 'road_address': '제주특별자치도 제주시 관덕로 19', 'tag': '문화유적지,부모,커플,혼자,친구,아이,사계절,4.3', 'introduction': '국가지정 보물 제 322호로 제주에 현존하는 건물 중 가장 오래된 건물\\r\\n· 제주시 삼도2동\\r\\n· 보물 제322호\\r\\n· 올레17코스\\r\\n· 4·3 유적지', 'latitude': 33.513355, 'longitude': 126.52145, 'post_code': '63166', 'phone_no': '064-710-6711', 'img_path': 'https://api.cdn.visitjeju.net/photomng/imgpath/201804/30/eac90949-bd7c-425b-a7ea-a37ea3a2369e.jpg', 'thumbnail_path': 'https://api.cdn.visitjeju.net/photomng/thumbnailpath/201804/30/2ce5ced3-a809-497f-b412-c0b8277d3119.jpg'}, {'contents_id': 'CNTS_000000000018435', 'contents_label': '관광지', 'title': '윗세오름(웃세오름)', 'address': '제주특별자치도 제주시 애월읍 광령리 산 183-1', 'road_address': '제주특별자치도 제주시 애월읍 광령리 산 183-1', 'tag': '오름,걷기/등산,친구', 'introduction': '한라산을 제외하고 가장 높은 오름, 어리목, 영실, 돈내코 탐방로와 연결', 'latitude': 33.370172, 'longitude': 126.48197, 'post_code': '', 'phone_no': '064-713-9950', 'img_path': 'https://api.cdn.visitjeju.net/photomng/imgpath/201804/30/b005742d-feb3-4814-9d81-dba9492289a5.jpg', 'thumbnail_path': 'https://api.cdn.visitjeju.net/photomng/thumbnailpath/201804/30/b871f16a-cfdc-43a3-ba6b-9e6fd0be5f18.jpg'}]\n"
     ]
    }
   ],
   "source": [
    "print(tour_data['info'][:5])"
   ]
  },
  {
   "cell_type": "code",
   "execution_count": 23,
   "metadata": {},
   "outputs": [
    {
     "name": "stdout",
     "output_type": "stream",
     "text": [
      "1136\n"
     ]
    }
   ],
   "source": [
    "# Extract relevant information from the data dictionary\n",
    "tour_list = tour_data['info']\n",
    "filtered_data = []\n",
    "for item in tour_list:\n",
    "    try:\n",
    "        filtered_data.append({\n",
    "            'TOUR_NM': item['title'],\n",
    "            'Latitude': item['latitude'],\n",
    "            'Longitude': item['longitude']\n",
    "        })\n",
    "    except KeyError:\n",
    "        continue\n",
    "\n",
    "# Convert the filtered data to a pandas DataFrame\n",
    "tour_df = pd.DataFrame(filtered_data)\n",
    "print(len(tour_df))"
   ]
  },
  {
   "cell_type": "code",
   "execution_count": 30,
   "metadata": {},
   "outputs": [
    {
     "name": "stdout",
     "output_type": "stream",
     "text": [
      "           TOUR_NM   Latitude   Longitude\n",
      "0     오라동 청보리-메밀꽃밭  33.426865  126.505775\n",
      "1            조은승마장  33.318214  126.344894\n",
      "2            번개레이싱  33.302971  126.299068\n",
      "3              관덕정  33.513355  126.521450\n",
      "4             윗세오름  33.370172  126.481970\n",
      "...            ...        ...         ...\n",
      "1131   타보카 월정리투명카약  33.563460  126.780250\n",
      "1132      핀크스 골프클럽  33.315998  126.387643\n",
      "1133         와흘본향당  33.502320  126.639070\n",
      "1134         해적잠수함  33.308254  126.164700\n",
      "1135    제주올레 1-1코스  33.505802  126.941780\n",
      "\n",
      "[1338 rows x 3 columns]\n"
     ]
    }
   ],
   "source": [
    "def split_tour_names(row):\n",
    "    tour_nm = row['TOUR_NM']\n",
    "    \n",
    "    # Check if there are parentheses\n",
    "    if '(' in tour_nm and ')' in tour_nm:\n",
    "        # Extract the main part and the parts inside the parentheses\n",
    "        main_name = tour_nm.split('(')[0].strip()  # Main name\n",
    "        inside_parentheses = tour_nm.split('(')[1].replace(')', '').strip()  # Sub-names inside parentheses\n",
    "        \n",
    "        # Split the contents inside the parentheses by commas\n",
    "        sub_names = [name.strip() for name in inside_parentheses.split(',')]\n",
    "        \n",
    "        # Create a list of dictionaries for each new row\n",
    "        new_rows = []\n",
    "        \n",
    "        # Add the main name as a row\n",
    "        new_row_main = row.copy()\n",
    "        new_row_main['TOUR_NM'] = main_name\n",
    "        new_rows.append(new_row_main)\n",
    "        \n",
    "        # Add each sub-name as a new row\n",
    "        for sub_name in sub_names:\n",
    "            new_row_sub = row.copy()\n",
    "            new_row_sub['TOUR_NM'] = sub_name\n",
    "            new_rows.append(new_row_sub)\n",
    "        \n",
    "        return new_rows\n",
    "    else:\n",
    "        # Return the row as is if no parentheses\n",
    "        return [row]\n",
    "\n",
    "# Apply the splitting function and flatten the list of lists\n",
    "expanded_rows = []\n",
    "for idx, row in tour_df.iterrows():\n",
    "    expanded_rows.extend(split_tour_names(row))\n",
    "\n",
    "# Convert the expanded list of rows back into a DataFrame\n",
    "expanded_tour_df = pd.DataFrame(expanded_rows)\n",
    "\n",
    "# Display the expanded DataFrame\n",
    "print(expanded_tour_df)"
   ]
  },
  {
   "cell_type": "code",
   "execution_count": 31,
   "metadata": {},
   "outputs": [
    {
     "data": {
      "text/html": [
       "<div>\n",
       "<style scoped>\n",
       "    .dataframe tbody tr th:only-of-type {\n",
       "        vertical-align: middle;\n",
       "    }\n",
       "\n",
       "    .dataframe tbody tr th {\n",
       "        vertical-align: top;\n",
       "    }\n",
       "\n",
       "    .dataframe thead th {\n",
       "        text-align: right;\n",
       "    }\n",
       "</style>\n",
       "<table border=\"1\" class=\"dataframe\">\n",
       "  <thead>\n",
       "    <tr style=\"text-align: right;\">\n",
       "      <th></th>\n",
       "      <th>TOUR_NM</th>\n",
       "      <th>Latitude</th>\n",
       "      <th>Longitude</th>\n",
       "    </tr>\n",
       "  </thead>\n",
       "  <tbody>\n",
       "    <tr>\n",
       "      <th>0</th>\n",
       "      <td>오라동 청보리-메밀꽃밭</td>\n",
       "      <td>33.426865</td>\n",
       "      <td>126.505775</td>\n",
       "    </tr>\n",
       "    <tr>\n",
       "      <th>1</th>\n",
       "      <td>조은승마장</td>\n",
       "      <td>33.318214</td>\n",
       "      <td>126.344894</td>\n",
       "    </tr>\n",
       "    <tr>\n",
       "      <th>2</th>\n",
       "      <td>번개레이싱</td>\n",
       "      <td>33.302971</td>\n",
       "      <td>126.299068</td>\n",
       "    </tr>\n",
       "    <tr>\n",
       "      <th>3</th>\n",
       "      <td>관덕정</td>\n",
       "      <td>33.513355</td>\n",
       "      <td>126.521450</td>\n",
       "    </tr>\n",
       "    <tr>\n",
       "      <th>4</th>\n",
       "      <td>윗세오름</td>\n",
       "      <td>33.370172</td>\n",
       "      <td>126.481970</td>\n",
       "    </tr>\n",
       "    <tr>\n",
       "      <th>4</th>\n",
       "      <td>웃세오름</td>\n",
       "      <td>33.370172</td>\n",
       "      <td>126.481970</td>\n",
       "    </tr>\n",
       "    <tr>\n",
       "      <th>5</th>\n",
       "      <td>9.81 파크</td>\n",
       "      <td>33.392887</td>\n",
       "      <td>126.358632</td>\n",
       "    </tr>\n",
       "    <tr>\n",
       "      <th>6</th>\n",
       "      <td>붉은오름 자연휴양림</td>\n",
       "      <td>33.395905</td>\n",
       "      <td>126.669785</td>\n",
       "    </tr>\n",
       "    <tr>\n",
       "      <th>7</th>\n",
       "      <td>용두암</td>\n",
       "      <td>33.514962</td>\n",
       "      <td>126.511687</td>\n",
       "    </tr>\n",
       "    <tr>\n",
       "      <th>8</th>\n",
       "      <td>지미봉</td>\n",
       "      <td>33.489535</td>\n",
       "      <td>126.877942</td>\n",
       "    </tr>\n",
       "  </tbody>\n",
       "</table>\n",
       "</div>"
      ],
      "text/plain": [
       "        TOUR_NM   Latitude   Longitude\n",
       "0  오라동 청보리-메밀꽃밭  33.426865  126.505775\n",
       "1         조은승마장  33.318214  126.344894\n",
       "2         번개레이싱  33.302971  126.299068\n",
       "3           관덕정  33.513355  126.521450\n",
       "4          윗세오름  33.370172  126.481970\n",
       "4          웃세오름  33.370172  126.481970\n",
       "5       9.81 파크  33.392887  126.358632\n",
       "6    붉은오름 자연휴양림  33.395905  126.669785\n",
       "7           용두암  33.514962  126.511687\n",
       "8           지미봉  33.489535  126.877942"
      ]
     },
     "execution_count": 31,
     "metadata": {},
     "output_type": "execute_result"
    }
   ],
   "source": [
    "expanded_tour_df.head(10)"
   ]
  },
  {
   "cell_type": "code",
   "execution_count": 33,
   "metadata": {},
   "outputs": [
    {
     "name": "stdout",
     "output_type": "stream",
     "text": [
      "1338\n"
     ]
    }
   ],
   "source": [
    "print(len(expanded_tour_df))\n",
    "expanded_tour_df.to_csv(\"data/JEJU_TOUR.csv\", encoding=\"cp949\", index=False)"
   ]
  }
 ],
 "metadata": {
  "kernelspec": {
   "display_name": "base",
   "language": "python",
   "name": "python3"
  },
  "language_info": {
   "codemirror_mode": {
    "name": "ipython",
    "version": 3
   },
   "file_extension": ".py",
   "mimetype": "text/x-python",
   "name": "python",
   "nbconvert_exporter": "python",
   "pygments_lexer": "ipython3",
   "version": "3.11.5"
  }
 },
 "nbformat": 4,
 "nbformat_minor": 2
}
